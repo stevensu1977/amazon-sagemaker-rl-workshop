{
 "cells": [
  {
   "cell_type": "markdown",
   "metadata": {},
   "source": [
    "![](https://static.xingzheai.cn/41000bcda2bb4e2195142927a000c106.png)\n",
    "# 使用行者AI提供的算法在 Amazon SageMaker上进行强化学习训练\n",
    "[行者AI](http://www.xingzhe.ai) （成都潜在人工智能科技有限公司）专注于人工智能在游戏领域的研究和应用，凭借自研算法，推出游戏AI、数据平台、内容审核等多项产品，为各大游戏厂商提供相关服务。"
   ]
  },
  {
   "cell_type": "markdown",
   "metadata": {},
   "source": [
    "## 概要介绍"
   ]
  },
  {
   "cell_type": "markdown",
   "metadata": {},
   "source": [
    "### 环境介绍\n",
    "6V6 足球比赛，在SageMaker上训练模型控制6个Agent，尽可能多的将球踢进对方球门，进一球+1分，丢一球-1分，规定时间内得分高者当局获胜，获胜后进球数有效，每一关的最大进球数会记录到排行榜中。\n",
    "\n",
    "比赛总共开放3个关卡，内置了3个不同难度的AI机器人，不同的关卡难度风格不同，快去探索吧！\n",
    "\n",
    "**注意**\n",
    "\n",
    "**与常规的足球比赛不同，比赛环境是一个精简版的足球比赛，没有越位、罚球等复杂足球规则，规则只有一条，在规定时间（2分钟）内，控制Agent，尽可能多的进球。**\n",
    "\n",
    "### 比赛地址\n",
    "https://game.xingzheai.cn/soccer\n"
   ]
  },
  {
   "cell_type": "markdown",
   "metadata": {},
   "source": [
    "## 足球比赛规则"
   ]
  },
  {
   "cell_type": "markdown",
   "metadata": {},
   "source": [
    "* 游戏目标：通过比赛所有关卡并达到累计进球数最高。\n",
    "* 游戏流程：点击开始比赛-选择比赛关卡-选择比赛模型-进行比赛。\n",
    "* 比赛规则：每个关卡2分钟，进球数需超过官方模型，未超过或与官方持平，均算挑战失败。\n",
    "* 选择模型：首次比赛需在模型库中上传模型，后续可上传新模型或选择已有进行挑战。\n",
    "* 挑战次数：比赛规定时间内，不限挑战次数。\n",
    "* 关卡选择：当前关卡通过后，才可挑战下一关卡。已通过关卡可重复挑战，以达到预期进球数。\n",
    "* 比赛排行：只有完成所有关卡挑战的参赛者才能进入排行榜，系统将取参赛者每关卡最高进球数进行累计求和，累加最高者为榜首，依此类推。"
   ]
  },
  {
   "cell_type": "markdown",
   "metadata": {},
   "source": [
    "## SageMaker环境准备\n",
    "\n",
    "### 导入\n",
    "\n",
    "导入我们需要的Python库, 以及需要的辅助方法: get_execution_role, wait_for_s3_object."
   ]
  },
  {
   "cell_type": "code",
   "execution_count": 1,
   "metadata": {},
   "outputs": [],
   "source": [
    "import sagemaker\n",
    "import boto3\n",
    "import sys\n",
    "import os\n",
    "import subprocess\n",
    "from IPython.display import HTML\n",
    "import time\n",
    "from time import gmtime, strftime\n",
    "sys.path.append(\"common\")\n",
    "from misc import wait_for_s3_object\n",
    "\n",
    "from sagemaker.rl import RLEstimator"
   ]
  },
  {
   "cell_type": "markdown",
   "metadata": {},
   "source": [
    "### 设置 S3 桶\n",
    "\n",
    "通过Sagemaker SDK获取默认s3桶, 该桶将会存储模型,检查点和其他元数据"
   ]
  },
  {
   "cell_type": "code",
   "execution_count": 2,
   "metadata": {},
   "outputs": [
    {
     "name": "stdout",
     "output_type": "stream",
     "text": [
      "S3 bucket path: s3://sagemaker-us-east-1-596030579944/\n"
     ]
    }
   ],
   "source": [
    "sage_session = sagemaker.session.Session()\n",
    "s3_bucket = sage_session.default_bucket()  \n",
    "s3_output_path = 's3://{}/'.format(s3_bucket)\n",
    "print(\"S3 bucket path: {}\".format(s3_output_path))"
   ]
  },
  {
   "cell_type": "markdown",
   "metadata": {},
   "source": [
    "### 定义任务/Image 名称变量 \n",
    "\n",
    "我们定义为训练任务和image定义前缀变量: job_name_prefix*"
   ]
  },
  {
   "cell_type": "code",
   "execution_count": 3,
   "metadata": {},
   "outputs": [],
   "source": [
    "#RL problem ID\n",
    "rl_problem = 'soccer'\n",
    "\n",
    "#创建训练任务名字\n",
    "job_name_prefix = 'xingzhe-'+rl_problem"
   ]
  },
  {
   "cell_type": "markdown",
   "metadata": {},
   "source": [
    "### 获取IAM角色\n",
    "\n",
    "使用SageMaker SDK 的`get_execution_role()` 获取SageMaker Notebook的Role, `role = sagemaker.get_execution_role()` "
   ]
  },
  {
   "cell_type": "code",
   "execution_count": 4,
   "metadata": {},
   "outputs": [
    {
     "name": "stdout",
     "output_type": "stream",
     "text": [
      "Using IAM role arn: arn:aws:iam::596030579944:role/service-role/AmazonSageMaker-ExecutionRole-20191130T110013\n"
     ]
    }
   ],
   "source": [
    "role = sagemaker.get_execution_role()\n",
    "print(\"Using IAM role arn: {}\".format(role))"
   ]
  },
  {
   "cell_type": "markdown",
   "metadata": {},
   "source": [
    "## 获取已经制作好的镜像\n",
    "行者AI已经将训练需要的环境打包到标准镜像中了，只需要拉取对应镜像，即可以完成训练环境的搭建\n",
    "\n",
    "\n"
   ]
  },
  {
   "cell_type": "code",
   "execution_count": null,
   "metadata": {},
   "outputs": [],
   "source": [
    "#拉取&推送到ECR\n",
    "!sh ./use_public_prebuild.sh\n"
   ]
  },
  {
   "cell_type": "code",
   "execution_count": 8,
   "metadata": {},
   "outputs": [
    {
     "name": "stdout",
     "output_type": "stream",
     "text": [
      "596030579944.dkr.ecr.us-east-1.amazonaws.com/soccer-sagemaker-2.4.1-cpu-py37-ubuntu18.04-20210517\n"
     ]
    }
   ],
   "source": [
    "#设置Image的名字\n",
    "aws_account = boto3.Session().client(\"sts\").get_caller_identity()['Account']\n",
    "aws_region =  boto3.Session().region_name\n",
    "custom_image_name = f'{aws_account}.dkr.ecr.{aws_region}.amazonaws.com/soccer-sagemaker-2.4.1-cpu-py37-ubuntu18.04-20210517'\n",
    "print(custom_image_name)"
   ]
  },
  {
   "cell_type": "markdown",
   "metadata": {},
   "source": [
    "## 配置训练所需的超参数\n"
   ]
  },
  {
   "cell_type": "markdown",
   "metadata": {},
   "source": [
    "####  查看config.yaml 超参数配置文件"
   ]
  },
  {
   "cell_type": "code",
   "execution_count": 23,
   "metadata": {},
   "outputs": [
    {
     "name": "stdout",
     "output_type": "stream",
     "text": [
      "\u001b[94mbehaviors\u001b[39;49;00m:\n",
      "  \u001b[94mSoccerTwos\u001b[39;49;00m:\n",
      "    \u001b[94mtrainer_type\u001b[39;49;00m: ppo \u001b[37m# 训练算法，可以选择 ppo 和 sac\u001b[39;49;00m\n",
      "    \n",
      "    \u001b[37m# 设置超参数\u001b[39;49;00m\n",
      "    \u001b[94mhyperparameters\u001b[39;49;00m: \n",
      "    \n",
      "      \u001b[94mbatch_size\u001b[39;49;00m: 2048   \n",
      "      \u001b[94mbuffer_size\u001b[39;49;00m: 20480     \u001b[37m# 缓存区的大小\u001b[39;49;00m\n",
      "      \u001b[94mlearning_rate\u001b[39;49;00m: 0.0003  \u001b[37m# 学习率\u001b[39;49;00m\n",
      "      \u001b[94mbeta\u001b[39;49;00m: 0.005  \u001b[37m# \u001b[39;49;00m\n",
      "      \u001b[94mepsilon\u001b[39;49;00m: 0.2\n",
      "      \u001b[94mlambd\u001b[39;49;00m: 0.95\n",
      "      \u001b[94mnum_epoch\u001b[39;49;00m: 3\n",
      "      \u001b[94mlearning_rate_schedule\u001b[39;49;00m: constant\n",
      "      \n",
      "    \u001b[37m# 网络设置\u001b[39;49;00m\n",
      "    \u001b[94mnetwork_settings\u001b[39;49;00m:    \n",
      "      \u001b[94mnormalize\u001b[39;49;00m: false           \u001b[37m# 是否归一化\u001b[39;49;00m\n",
      "      \u001b[94mhidden_units\u001b[39;49;00m: 512         \u001b[37m# MLP网络隐层神经元的数量\u001b[39;49;00m\n",
      "      \u001b[94mnum_layers\u001b[39;49;00m: 2             \u001b[37m# 网络多少层\u001b[39;49;00m\n",
      "      \u001b[94mvis_encode_type\u001b[39;49;00m: simple    \u001b[37m# visual observation的编码， 在这里不需要设置\u001b[39;49;00m\n",
      "    \n",
      "    \u001b[37m# 奖励设置\u001b[39;49;00m\n",
      "    \u001b[94mreward_signals\u001b[39;49;00m:\n",
      "      \u001b[94mextrinsic\u001b[39;49;00m:\n",
      "        \u001b[94mgamma\u001b[39;49;00m: 0.99\n",
      "        \u001b[94mstrength\u001b[39;49;00m: 1.0\n",
      "    \n",
      "    \u001b[37m# 多少个epoch， 保存checkpoint\u001b[39;49;00m\n",
      "    \u001b[94mkeep_checkpoints\u001b[39;49;00m: 5\n",
      "    \n",
      "    \u001b[37m# 训练的最大步数\u001b[39;49;00m\n",
      "    \u001b[94mmax_steps\u001b[39;49;00m: 100000\n",
      "    \n",
      "    \u001b[37m# experience的长度，约等于每一条轨迹的长度，常用值：32-2048， (值变大时，高方差、低偏差;  值变小时，低方差，高偏差)，当一条轨迹中的奖励密集或者轨迹非常非常大时，这个值可以设置的小一点。\u001b[39;49;00m\n",
      "    \u001b[37m# 为了能够评估关键动作，这个值也不宜过小，需要在两者之中折中。\u001b[39;49;00m\n",
      "    \u001b[94mtime_horizon\u001b[39;49;00m: 1000\n",
      "\n",
      "    \u001b[94msummary_freq\u001b[39;49;00m: 10000\n",
      "    \u001b[94mthreaded\u001b[39;49;00m: false\n",
      "    \n",
      "    \u001b[37m# self play， 训练AI vs AI，训练时，AI与自己对打，首先，训练一个基础模型 base1, 然后固定住base1, 训练base2与base1对打，迭代一定轮数之后，如果base2优于base1, 固定base2, 训练base3与base2对打，以此类推\u001b[39;49;00m\n",
      "    \u001b[94mself_play\u001b[39;49;00m:\n",
      "      \u001b[94msave_steps\u001b[39;49;00m: 50000           \u001b[37m# 多少步保存模型\u001b[39;49;00m\n",
      "      \u001b[94mteam_change\u001b[39;49;00m: 200000         \u001b[37m# 多少步之后，固定一个版本的模型\u001b[39;49;00m\n",
      "      \u001b[94mswap_steps\u001b[39;49;00m: 2000\n",
      "      \u001b[94mwindow\u001b[39;49;00m: 10       \u001b[37m# 保存多少个旧的模型\u001b[39;49;00m\n",
      "      \n",
      "      \u001b[37m# 与最新模型对战的概率，从window个池子中随机选取对手\u001b[39;49;00m\n",
      "      \u001b[94mplay_against_latest_model_ratio\u001b[39;49;00m: 0.5\n",
      "      \n",
      "      \u001b[37m# 初始elo分值\u001b[39;49;00m\n",
      "      \u001b[94minitial_elo\u001b[39;49;00m: 1200.0\n"
     ]
    }
   ],
   "source": [
    "!pygmentize source_dir/config.yaml"
   ]
  },
  {
   "cell_type": "code",
   "execution_count": 39,
   "metadata": {},
   "outputs": [],
   "source": [
    "# 修改超参数，调整模型"
   ]
  },
  {
   "cell_type": "markdown",
   "metadata": {},
   "source": [
    "## 足球比赛RL环境介绍\n",
    "### 状态空间设计\n",
    "6个球员具有完全一致的状态空间，长度为112的数组\n",
    "![](https://static.xingzheai.cn/4969b92678b34d6eaf6abbe70ee35c23_middle.png)\n",
    "\n",
    "\n",
    "### 动作空间设计\n",
    "\n",
    "* 离散空间，action shape = （3,3）\n",
    "* 动作空间表示为：action [dimension0,dimension1,dimension2]\n",
    "* dimension0包含3个维度，各维度含义如下：\n",
    "* action [0,,]表示无作为，action [1,,]表示向前移动，action [2,,]表示向后移动\n",
    "* action [,0,]表示无作为，action [,1,]表示向右移动，action [,2,]表示向左移动\n",
    "* action [,,0]表示无作为，action [,,1]表示向右旋转，action [,,2]表示向左旋转\n",
    "\n",
    "### 奖励设计\n",
    "* 每个step, 奖励值 -1/maxstep， 促使Agent最短时间内进球\n",
    "* 己方进球 +1\n",
    "* 对方进球 -1\n"
   ]
  },
  {
   "cell_type": "markdown",
   "metadata": {},
   "source": [
    "#### 编写训练代码\n",
    "\n",
    "训练代码在`./source_dir`目录中的`learn.` 文件."
   ]
  },
  {
   "cell_type": "code",
   "execution_count": 24,
   "metadata": {},
   "outputs": [
    {
     "name": "stdout",
     "output_type": "stream",
     "text": [
      "\u001b[37m# learn\u001b[39;49;00m\n",
      "\u001b[34mfrom\u001b[39;49;00m \u001b[04m\u001b[36mmlagents\u001b[39;49;00m\u001b[04m\u001b[36m.\u001b[39;49;00m\u001b[04m\u001b[36mtrainers\u001b[39;49;00m\u001b[04m\u001b[36m.\u001b[39;49;00m\u001b[04m\u001b[36mlearn\u001b[39;49;00m \u001b[34mimport\u001b[39;49;00m parse_command_line\n",
      "\n",
      "\u001b[34mfrom\u001b[39;49;00m \u001b[04m\u001b[36mmlagents\u001b[39;49;00m\u001b[04m\u001b[36m.\u001b[39;49;00m\u001b[04m\u001b[36mtrainers\u001b[39;49;00m \u001b[34mimport\u001b[39;49;00m learn\n",
      "\u001b[34mimport\u001b[39;49;00m \u001b[04m\u001b[36mos\u001b[39;49;00m\n",
      "\n",
      "\u001b[34mif\u001b[39;49;00m \u001b[31m__name__\u001b[39;49;00m == \u001b[33m'\u001b[39;49;00m\u001b[33m__main__\u001b[39;49;00m\u001b[33m'\u001b[39;49;00m:\n",
      "    env_list = [\u001b[33m'\u001b[39;49;00m\u001b[33mSM_OUTPUT_DATA_DIR\u001b[39;49;00m\u001b[33m'\u001b[39;49;00m, \u001b[33m'\u001b[39;49;00m\u001b[33mSM_OUTPUT_DIR\u001b[39;49;00m\u001b[33m'\u001b[39;49;00m, \u001b[33m'\u001b[39;49;00m\u001b[33mSM_MODEL_DIR\u001b[39;49;00m\u001b[33m'\u001b[39;49;00m]\n",
      "    \u001b[34mfor\u001b[39;49;00m _ \u001b[35min\u001b[39;49;00m env_list:\n",
      "        \u001b[36mprint\u001b[39;49;00m(_, os.getenv(_))\n",
      "    \u001b[37m# learn.run_cli(parse_command_line(['SoccerTwos.yaml', '--env', '/Users/jty/Desktop/3dball/3dball', '--tensorflow', '--resume']))\u001b[39;49;00m\n",
      "    learn.run_cli(parse_command_line([\u001b[33m'\u001b[39;49;00m\u001b[33mconfig.yaml\u001b[39;49;00m\u001b[33m'\u001b[39;49;00m, \u001b[33m'\u001b[39;49;00m\u001b[33m--env\u001b[39;49;00m\u001b[33m'\u001b[39;49;00m, \u001b[33m'\u001b[39;49;00m\u001b[33m/src/soccer6v6.x86_64\u001b[39;49;00m\u001b[33m'\u001b[39;49;00m, \u001b[33m'\u001b[39;49;00m\u001b[33m--tensorflow\u001b[39;49;00m\u001b[33m'\u001b[39;49;00m]))\n"
     ]
    }
   ],
   "source": [
    "!pygmentize source_dir/learn.py"
   ]
  },
  {
   "cell_type": "markdown",
   "metadata": {},
   "source": [
    "## 使用SageMaker SDK 创建 RL 训练任务\n",
    "\n",
    "你可以选择 GPU 或者 CPU 来创建SageMaker 训练任务. SageMaker SDK提供了`RLEstimator类`用来创建RL训练任务. \n",
    "\n",
    "1. Specify the source directory where the environment, presets and training code is uploaded.\n",
    "2. Specify the entry point as the training code \n",
    "3. Specify the choice of RL toolkit and framework. This automatically resolves to the ECR path for the RL Container. \n",
    "4. Define the training parameters such as the instance count, job name, S3 path for output and job name. \n",
    "5. Specify the hyperparameters for the RL agent algorithm. The `RLSTABLEBASELINES_PRESET` can be used to specify the RL agent algorithm you want to use. \n",
    "6. Define the metrics definitions that you are interested in capturing in your logs. These can also be visualized in CloudWatch and SageMaker Notebooks. \n",
    "\n"
   ]
  },
  {
   "cell_type": "code",
   "execution_count": null,
   "metadata": {},
   "outputs": [
    {
     "name": "stdout",
     "output_type": "stream",
     "text": [
      "2021-05-18 01:25:19 Starting - Starting the training job...\n",
      "2021-05-18 01:25:43 Starting - Launching requested ML instancesProfilerReport-1621301119: InProgress\n",
      "............\n",
      "2021-05-18 01:27:44 Starting - Preparing the instances for training...\n",
      "2021-05-18 01:28:08 Downloading - Downloading input data\n",
      "2021-05-18 01:28:08 Training - Downloading the training image......\n",
      "2021-05-18 01:29:12 Training - Training image download completed. Training in progress.\u001b[34m2021-05-18 01:29:13.924336: W tensorflow/core/profiler/internal/smprofiler_timeline.cc:460] Initializing the SageMaker Profiler.\u001b[0m\n",
      "\u001b[34m2021-05-18 01:29:13.929713: W tensorflow/core/profiler/internal/smprofiler_timeline.cc:105] SageMaker Profiler is not enabled. The timeline writer thread will not be started, future recorded events will be dropped.\u001b[0m\n",
      "\u001b[34m2021-05-18 01:29:14.046079: W tensorflow/core/profiler/internal/smprofiler_timeline.cc:460] Initializing the SageMaker Profiler.\u001b[0m\n",
      "\u001b[34m2021-05-18 01:29:17,626 sagemaker-training-toolkit INFO     Imported framework sagemaker_tensorflow_container.training\u001b[0m\n",
      "\u001b[34m2021-05-18 01:29:17,633 sagemaker-training-toolkit INFO     No GPUs detected (normal if no gpus installed)\u001b[0m\n",
      "\u001b[34m2021-05-18 01:29:17,791 sagemaker-training-toolkit INFO     No GPUs detected (normal if no gpus installed)\u001b[0m\n",
      "\u001b[34m2021-05-18 01:29:17,806 sagemaker-training-toolkit INFO     No GPUs detected (normal if no gpus installed)\u001b[0m\n",
      "\u001b[34m2021-05-18 01:29:17,821 sagemaker-training-toolkit INFO     No GPUs detected (normal if no gpus installed)\u001b[0m\n",
      "\u001b[34m2021-05-18 01:29:17,832 sagemaker-training-toolkit INFO     Invoking user script\n",
      "\u001b[0m\n",
      "\u001b[34mTraining Env:\n",
      "\u001b[0m\n",
      "\u001b[34m{\n",
      "    \"additional_framework_parameters\": {\n",
      "        \"sagemaker_estimator\": \"RLEstimator\"\n",
      "    },\n",
      "    \"channel_input_dirs\": {},\n",
      "    \"current_host\": \"algo-1\",\n",
      "    \"framework_module\": \"sagemaker_tensorflow_container.training:main\",\n",
      "    \"hosts\": [\n",
      "        \"algo-1\"\n",
      "    ],\n",
      "    \"hyperparameters\": {},\n",
      "    \"input_config_dir\": \"/opt/ml/input/config\",\n",
      "    \"input_data_config\": {},\n",
      "    \"input_dir\": \"/opt/ml/input\",\n",
      "    \"is_master\": true,\n",
      "    \"job_name\": \"xingzhe-soccer-2021-05-18-01-25-19-342\",\n",
      "    \"log_level\": 20,\n",
      "    \"master_hostname\": \"algo-1\",\n",
      "    \"model_dir\": \"/opt/ml/model\",\n",
      "    \"module_dir\": \"s3://sagemaker-us-east-1-596030579944/xingzhe-soccer-2021-05-18-01-25-19-342/source/sourcedir.tar.gz\",\n",
      "    \"module_name\": \"learn\",\n",
      "    \"network_interface_name\": \"eth0\",\n",
      "    \"num_cpus\": 4,\n",
      "    \"num_gpus\": 0,\n",
      "    \"output_data_dir\": \"/opt/ml/output/data\",\n",
      "    \"output_dir\": \"/opt/ml/output\",\n",
      "    \"output_intermediate_dir\": \"/opt/ml/output/intermediate\",\n",
      "    \"resource_config\": {\n",
      "        \"current_host\": \"algo-1\",\n",
      "        \"hosts\": [\n",
      "            \"algo-1\"\n",
      "        ],\n",
      "        \"network_interface_name\": \"eth0\"\n",
      "    },\n",
      "    \"user_entry_point\": \"learn.py\"\u001b[0m\n",
      "\u001b[34m}\n",
      "\u001b[0m\n",
      "\u001b[34mEnvironment variables:\n",
      "\u001b[0m\n",
      "\u001b[34mSM_HOSTS=[\"algo-1\"]\u001b[0m\n",
      "\u001b[34mSM_NETWORK_INTERFACE_NAME=eth0\u001b[0m\n",
      "\u001b[34mSM_HPS={}\u001b[0m\n",
      "\u001b[34mSM_USER_ENTRY_POINT=learn.py\u001b[0m\n",
      "\u001b[34mSM_FRAMEWORK_PARAMS={\"sagemaker_estimator\":\"RLEstimator\"}\u001b[0m\n",
      "\u001b[34mSM_RESOURCE_CONFIG={\"current_host\":\"algo-1\",\"hosts\":[\"algo-1\"],\"network_interface_name\":\"eth0\"}\u001b[0m\n",
      "\u001b[34mSM_INPUT_DATA_CONFIG={}\u001b[0m\n",
      "\u001b[34mSM_OUTPUT_DATA_DIR=/opt/ml/output/data\u001b[0m\n",
      "\u001b[34mSM_CHANNELS=[]\u001b[0m\n",
      "\u001b[34mSM_CURRENT_HOST=algo-1\u001b[0m\n",
      "\u001b[34mSM_MODULE_NAME=learn\u001b[0m\n",
      "\u001b[34mSM_LOG_LEVEL=20\u001b[0m\n",
      "\u001b[34mSM_FRAMEWORK_MODULE=sagemaker_tensorflow_container.training:main\u001b[0m\n",
      "\u001b[34mSM_INPUT_DIR=/opt/ml/input\u001b[0m\n",
      "\u001b[34mSM_INPUT_CONFIG_DIR=/opt/ml/input/config\u001b[0m\n",
      "\u001b[34mSM_OUTPUT_DIR=/opt/ml/output\u001b[0m\n",
      "\u001b[34mSM_NUM_CPUS=4\u001b[0m\n",
      "\u001b[34mSM_NUM_GPUS=0\u001b[0m\n",
      "\u001b[34mSM_MODEL_DIR=/opt/ml/model\u001b[0m\n",
      "\u001b[34mSM_MODULE_DIR=s3://sagemaker-us-east-1-596030579944/xingzhe-soccer-2021-05-18-01-25-19-342/source/sourcedir.tar.gz\u001b[0m\n",
      "\u001b[34mSM_TRAINING_ENV={\"additional_framework_parameters\":{\"sagemaker_estimator\":\"RLEstimator\"},\"channel_input_dirs\":{},\"current_host\":\"algo-1\",\"framework_module\":\"sagemaker_tensorflow_container.training:main\",\"hosts\":[\"algo-1\"],\"hyperparameters\":{},\"input_config_dir\":\"/opt/ml/input/config\",\"input_data_config\":{},\"input_dir\":\"/opt/ml/input\",\"is_master\":true,\"job_name\":\"xingzhe-soccer-2021-05-18-01-25-19-342\",\"log_level\":20,\"master_hostname\":\"algo-1\",\"model_dir\":\"/opt/ml/model\",\"module_dir\":\"s3://sagemaker-us-east-1-596030579944/xingzhe-soccer-2021-05-18-01-25-19-342/source/sourcedir.tar.gz\",\"module_name\":\"learn\",\"network_interface_name\":\"eth0\",\"num_cpus\":4,\"num_gpus\":0,\"output_data_dir\":\"/opt/ml/output/data\",\"output_dir\":\"/opt/ml/output\",\"output_intermediate_dir\":\"/opt/ml/output/intermediate\",\"resource_config\":{\"current_host\":\"algo-1\",\"hosts\":[\"algo-1\"],\"network_interface_name\":\"eth0\"},\"user_entry_point\":\"learn.py\"}\u001b[0m\n",
      "\u001b[34mSM_USER_ARGS=[]\u001b[0m\n",
      "\u001b[34mSM_OUTPUT_INTERMEDIATE_DIR=/opt/ml/output/intermediate\u001b[0m\n",
      "\u001b[34mPYTHONPATH=/opt/ml/code:/usr/local/bin:/usr/local/lib/python37.zip:/usr/local/lib/python3.7:/usr/local/lib/python3.7/lib-dynload:/usr/local/lib/python3.7/site-packages:/src/xingzhe_trainer\n",
      "\u001b[0m\n",
      "\u001b[34mInvoking script with the following command:\n",
      "\u001b[0m\n",
      "\u001b[34m/usr/local/bin/python3.7 learn.py\n",
      "\n",
      "\u001b[0m\n",
      "\u001b[34mSM_OUTPUT_DATA_DIR /opt/ml/output/data\u001b[0m\n",
      "\u001b[34mSM_OUTPUT_DIR /opt/ml/output\u001b[0m\n",
      "\u001b[34mSM_MODEL_DIR /opt/ml/model\u001b[0m\n",
      "\u001b[34mmaybe_init_path: /src/xingzhe_trainer/results/ppo\u001b[0m\n",
      "\u001b[34mFound path: /src/soccer6v6.x86_64\u001b[0m\n"
     ]
    }
   ],
   "source": [
    "%%time\n",
    "\n",
    "# 选择训练机型\n",
    "instance_type = \"ml.c5.xlarge\"\n",
    "\n",
    "estimator = RLEstimator(entry_point=\"learn.py\",\n",
    "                        source_dir='source_dir',\n",
    "                        dependencies=[\"common/sagemaker_rl\"],\n",
    "                        image_uri=custom_image_name,\n",
    "                        role=role,\n",
    "                        instance_type=instance_type,\n",
    "                        use_spot_instances=True,     # 是否启用spot\n",
    "                        max_wait = (72 * 60 * 60),\n",
    "                        instance_count=1,\n",
    "                        output_path=s3_output_path,\n",
    "                        base_job_name=job_name_prefix,\n",
    "                        hyperparameters={},\n",
    "                    )\n",
    "\n",
    "estimator.fit(wait=True)"
   ]
  },
  {
   "cell_type": "markdown",
   "metadata": {},
   "source": [
    "# S3获取模型"
   ]
  },
  {
   "cell_type": "code",
   "execution_count": 12,
   "metadata": {},
   "outputs": [
    {
     "name": "stdout",
     "output_type": "stream",
     "text": [
      "Training job: xingzhe-soccer-2021-05-18-01-25-19-342\n",
      "Create local folder /tmp/xingzhe-soccer-2021-05-18-01-25-19-342\n",
      "Waiting for s3://sagemaker-us-east-1-596030579944/xingzhe-soccer-2021-05-18-01-25-19-342/output/model.tar.gz...\n",
      "Downloading xingzhe-soccer-2021-05-18-01-25-19-342/output/model.tar.gz\n"
     ]
    }
   ],
   "source": [
    "\n",
    "job_name = estimator.latest_training_job.job_name\n",
    "print(\"Training job: %s\" % job_name)\n",
    "\n",
    "s3_url = \"s3://{}/{}\".format(s3_bucket, job_name)\n",
    "\n",
    "model_tar = \"{}/output/model.tar.gz\".format(job_name)\n",
    "\n",
    "tmp_dir = \"/tmp/{}\".format(job_name)\n",
    "os.system(\"mkdir {}\".format(tmp_dir))\n",
    "print(\"Create local folder {}\".format(tmp_dir))\n",
    "\n",
    "model_paths = wait_for_s3_object(s3_bucket, model_tar, tmp_dir) \n"
   ]
  },
  {
   "cell_type": "code",
   "execution_count": 13,
   "metadata": {},
   "outputs": [
    {
     "name": "stdout",
     "output_type": "stream",
     "text": [
      "tar xvf /tmp/xingzhe-soccer-2021-05-18-01-25-19-342/model.tar.gz -C /tmp/xingzhe-soccer-2021-05-18-01-25-19-342\n",
      "/tmp/xingzhe-soccer-2021-05-18-01-25-19-342/results/ppo/SoccerTwos.nn\n"
     ]
    }
   ],
   "source": [
    "# 解压文件，得到model.nn\n",
    "print(f\"tar xvf {model_paths[0]} -C {tmp_dir}\")\n",
    "os.system(f\"tar xvf {model_paths[0]} -C {tmp_dir}\")\n",
    "\n",
    "# 下载对应的模型文件\n",
    "latest_model_path = os.path.join(tmp_dir, 'results', 'ppo', 'SoccerTwos.nn')\n",
    "print(latest_model_path)"
   ]
  },
  {
   "cell_type": "code",
   "execution_count": 14,
   "metadata": {},
   "outputs": [
    {
     "data": {
      "text/html": [
       "Click here to download: <a href='/tmp/xingzhe-soccer-2021-05-18-01-25-19-342/results/ppo/SoccerTwos.nn' target='_blank'>/tmp/xingzhe-soccer-2021-05-18-01-25-19-342/results/ppo/SoccerTwos.nn</a><br>"
      ],
      "text/plain": [
       "/tmp/xingzhe-soccer-2021-05-18-01-25-19-342/results/ppo/SoccerTwos.nn"
      ]
     },
     "metadata": {},
     "output_type": "display_data"
    }
   ],
   "source": [
    "\n",
    "from IPython.display import display, FileLink\n",
    "# 这里需要下载对应的模型文件， TODO\n",
    "local_file = FileLink(latest_model_path, result_html_prefix=\"Click here to download: \")\n",
    "display(local_file)"
   ]
  },
  {
   "cell_type": "markdown",
   "metadata": {},
   "source": [
    "## 足球比赛\n",
    "进入足球比赛页面，**https://game.xingzheai.cn/soccer** , 完成注册，并且登录后，按照以下步骤操作：\n",
    "1. 点击开始竞赛\n",
    "2. 选择游戏关卡\n",
    "3. 上传S3上训练好的模型文件\n",
    "4. 点击开始，进行比赛\n"
   ]
  },
  {
   "cell_type": "markdown",
   "metadata": {},
   "source": [
    "## 排行榜\n",
    "在比赛主页https://game.xingzheai.cn/soccer ， 可以看到实时的排行榜，最终会按照排行榜，决定比赛的大奖哟！\n",
    "![](https://static.xingzheai.cn/9b35ee46583541e3b8e547aaef19d680_middle.png)"
   ]
  },
  {
   "cell_type": "markdown",
   "metadata": {},
   "source": [
    "# 彩蛋，继续训练\n",
    "恭喜！如果你看到这里，你已经成功一半了\n",
    "\n",
    "**注意：** \n",
    "\n",
    "继续训练，不能调整网络相关超参数"
   ]
  },
  {
   "cell_type": "code",
   "execution_count": null,
   "metadata": {},
   "outputs": [
    {
     "name": "stdout",
     "output_type": "stream",
     "text": [
      "2021-05-18 02:00:49 Starting - Starting the training job...\n",
      "2021-05-18 02:01:14 Starting - Launching requested ML instancesProfilerReport-1621303248: InProgress\n",
      "......\n",
      "2021-05-18 02:02:14 Starting - Preparing the instances for training......\n",
      "2021-05-18 02:03:16 Downloading - Downloading input data\n",
      "2021-05-18 02:03:16 Training - Downloading the training image......\n",
      "2021-05-18 02:04:18 Training - Training image download completed. Training in progress..\u001b[34m2021-05-18 02:04:19.005536: W tensorflow/core/profiler/internal/smprofiler_timeline.cc:460] Initializing the SageMaker Profiler.\u001b[0m\n",
      "\u001b[34m2021-05-18 02:04:19.011116: W tensorflow/core/profiler/internal/smprofiler_timeline.cc:105] SageMaker Profiler is not enabled. The timeline writer thread will not be started, future recorded events will be dropped.\u001b[0m\n",
      "\u001b[34m2021-05-18 02:04:19.107488: W tensorflow/core/profiler/internal/smprofiler_timeline.cc:460] Initializing the SageMaker Profiler.\u001b[0m\n",
      "\u001b[34m2021-05-18 02:04:21,761 sagemaker-training-toolkit INFO     Imported framework sagemaker_tensorflow_container.training\u001b[0m\n",
      "\u001b[34m2021-05-18 02:04:21,767 sagemaker-training-toolkit INFO     No GPUs detected (normal if no gpus installed)\u001b[0m\n",
      "\u001b[34m2021-05-18 02:04:21,914 sagemaker-training-toolkit INFO     No GPUs detected (normal if no gpus installed)\u001b[0m\n",
      "\u001b[34m2021-05-18 02:04:21,928 sagemaker-training-toolkit INFO     No GPUs detected (normal if no gpus installed)\u001b[0m\n",
      "\u001b[34m2021-05-18 02:04:21,941 sagemaker-training-toolkit INFO     No GPUs detected (normal if no gpus installed)\u001b[0m\n",
      "\u001b[34m2021-05-18 02:04:21,951 sagemaker-training-toolkit INFO     Invoking user script\n",
      "\u001b[0m\n",
      "\u001b[34mTraining Env:\n",
      "\u001b[0m\n",
      "\u001b[34m{\n",
      "    \"additional_framework_parameters\": {\n",
      "        \"sagemaker_estimator\": \"RLEstimator\"\n",
      "    },\n",
      "    \"channel_input_dirs\": {},\n",
      "    \"current_host\": \"algo-1\",\n",
      "    \"framework_module\": \"sagemaker_tensorflow_container.training:main\",\n",
      "    \"hosts\": [\n",
      "        \"algo-1\"\n",
      "    ],\n",
      "    \"hyperparameters\": {},\n",
      "    \"input_config_dir\": \"/opt/ml/input/config\",\n",
      "    \"input_data_config\": {},\n",
      "    \"input_dir\": \"/opt/ml/input\",\n",
      "    \"is_master\": true,\n",
      "    \"job_name\": \"xingzhe-soccer-2021-05-18-02-00-48-934\",\n",
      "    \"log_level\": 20,\n",
      "    \"master_hostname\": \"algo-1\",\n",
      "    \"model_dir\": \"/opt/ml/model\",\n",
      "    \"module_dir\": \"s3://sagemaker-us-east-1-596030579944/xingzhe-soccer-2021-05-18-02-00-48-934/source/sourcedir.tar.gz\",\n",
      "    \"module_name\": \"learn_resume\",\n",
      "    \"network_interface_name\": \"eth0\",\n",
      "    \"num_cpus\": 4,\n",
      "    \"num_gpus\": 0,\n",
      "    \"output_data_dir\": \"/opt/ml/output/data\",\n",
      "    \"output_dir\": \"/opt/ml/output\",\n",
      "    \"output_intermediate_dir\": \"/opt/ml/output/intermediate\",\n",
      "    \"resource_config\": {\n",
      "        \"current_host\": \"algo-1\",\n",
      "        \"hosts\": [\n",
      "            \"algo-1\"\n",
      "        ],\n",
      "        \"network_interface_name\": \"eth0\"\n",
      "    },\n",
      "    \"user_entry_point\": \"learn_resume.py\"\u001b[0m\n",
      "\u001b[34m}\n",
      "\u001b[0m\n",
      "\u001b[34mEnvironment variables:\n",
      "\u001b[0m\n",
      "\u001b[34mSM_HOSTS=[\"algo-1\"]\u001b[0m\n",
      "\u001b[34mSM_NETWORK_INTERFACE_NAME=eth0\u001b[0m\n",
      "\u001b[34mSM_HPS={}\u001b[0m\n",
      "\u001b[34mSM_USER_ENTRY_POINT=learn_resume.py\u001b[0m\n",
      "\u001b[34mSM_FRAMEWORK_PARAMS={\"sagemaker_estimator\":\"RLEstimator\"}\u001b[0m\n",
      "\u001b[34mSM_RESOURCE_CONFIG={\"current_host\":\"algo-1\",\"hosts\":[\"algo-1\"],\"network_interface_name\":\"eth0\"}\u001b[0m\n",
      "\u001b[34mSM_INPUT_DATA_CONFIG={}\u001b[0m\n",
      "\u001b[34mSM_OUTPUT_DATA_DIR=/opt/ml/output/data\u001b[0m\n",
      "\u001b[34mSM_CHANNELS=[]\u001b[0m\n",
      "\u001b[34mSM_CURRENT_HOST=algo-1\u001b[0m\n",
      "\u001b[34mSM_MODULE_NAME=learn_resume\u001b[0m\n",
      "\u001b[34mSM_LOG_LEVEL=20\u001b[0m\n",
      "\u001b[34mSM_FRAMEWORK_MODULE=sagemaker_tensorflow_container.training:main\u001b[0m\n",
      "\u001b[34mSM_INPUT_DIR=/opt/ml/input\u001b[0m\n",
      "\u001b[34mSM_INPUT_CONFIG_DIR=/opt/ml/input/config\u001b[0m\n",
      "\u001b[34mSM_OUTPUT_DIR=/opt/ml/output\u001b[0m\n",
      "\u001b[34mSM_NUM_CPUS=4\u001b[0m\n",
      "\u001b[34mSM_NUM_GPUS=0\u001b[0m\n",
      "\u001b[34mSM_MODEL_DIR=/opt/ml/model\u001b[0m\n",
      "\u001b[34mSM_MODULE_DIR=s3://sagemaker-us-east-1-596030579944/xingzhe-soccer-2021-05-18-02-00-48-934/source/sourcedir.tar.gz\u001b[0m\n",
      "\u001b[34mSM_TRAINING_ENV={\"additional_framework_parameters\":{\"sagemaker_estimator\":\"RLEstimator\"},\"channel_input_dirs\":{},\"current_host\":\"algo-1\",\"framework_module\":\"sagemaker_tensorflow_container.training:main\",\"hosts\":[\"algo-1\"],\"hyperparameters\":{},\"input_config_dir\":\"/opt/ml/input/config\",\"input_data_config\":{},\"input_dir\":\"/opt/ml/input\",\"is_master\":true,\"job_name\":\"xingzhe-soccer-2021-05-18-02-00-48-934\",\"log_level\":20,\"master_hostname\":\"algo-1\",\"model_dir\":\"/opt/ml/model\",\"module_dir\":\"s3://sagemaker-us-east-1-596030579944/xingzhe-soccer-2021-05-18-02-00-48-934/source/sourcedir.tar.gz\",\"module_name\":\"learn_resume\",\"network_interface_name\":\"eth0\",\"num_cpus\":4,\"num_gpus\":0,\"output_data_dir\":\"/opt/ml/output/data\",\"output_dir\":\"/opt/ml/output\",\"output_intermediate_dir\":\"/opt/ml/output/intermediate\",\"resource_config\":{\"current_host\":\"algo-1\",\"hosts\":[\"algo-1\"],\"network_interface_name\":\"eth0\"},\"user_entry_point\":\"learn_resume.py\"}\u001b[0m\n",
      "\u001b[34mSM_USER_ARGS=[]\u001b[0m\n",
      "\u001b[34mSM_OUTPUT_INTERMEDIATE_DIR=/opt/ml/output/intermediate\u001b[0m\n",
      "\u001b[34mPYTHONPATH=/opt/ml/code:/usr/local/bin:/usr/local/lib/python37.zip:/usr/local/lib/python3.7:/usr/local/lib/python3.7/lib-dynload:/usr/local/lib/python3.7/site-packages:/src/xingzhe_trainer\n",
      "\u001b[0m\n",
      "\u001b[34mInvoking script with the following command:\n",
      "\u001b[0m\n",
      "\u001b[34m/usr/local/bin/python3.7 learn_resume.py\n",
      "\n",
      "\u001b[0m\n",
      "\u001b[34mSM_OUTPUT_DATA_DIR /opt/ml/output/data\u001b[0m\n",
      "\u001b[34mSM_OUTPUT_DIR /opt/ml/output\u001b[0m\n",
      "\u001b[34mSM_MODEL_DIR /opt/ml/model\u001b[0m\n",
      "\u001b[34mmaybe_init_path: /src/xingzhe_trainer/results/ppo-resume\u001b[0m\n",
      "\u001b[34mPrevious data from this run ID was not found. Train a new run by removing the --resume flag.\u001b[0m\n",
      "\u001b[34mFound path: /src/soccer6v6.x86_64\u001b[0m\n"
     ]
    }
   ],
   "source": [
    "estimator = RLEstimator(entry_point=\"learn_resume.py\",\n",
    "                        source_dir='source_dir',\n",
    "                        dependencies=[\"common/sagemaker_rl\"],\n",
    "                        image_uri=custom_image_name,\n",
    "                        role=role,\n",
    "                        instance_type=instance_type,\n",
    "                        use_spot_instances=True,\n",
    "                        max_wait = (72 * 60 * 60),\n",
    "                        instance_count=1,\n",
    "                        output_path=s3_output_path,\n",
    "                        base_job_name=job_name_prefix,\n",
    "                        hyperparameters={},\n",
    "                    )\n",
    "\n",
    "estimator.fit(wait=True)"
   ]
  },
  {
   "cell_type": "code",
   "execution_count": 55,
   "metadata": {},
   "outputs": [
    {
     "name": "stdout",
     "output_type": "stream",
     "text": [
      "Training job: xingzhe-soccer-2021-05-17-13-05-46-626\n",
      "Create local folder /tmp/xingzhe-soccer-2021-05-17-13-05-46-626\n",
      "Waiting for s3://sagemaker-cn-northwest-1-081191365501/xingzhe-soccer-2021-05-17-13-05-46-626/output/model.tar.gz...\n",
      "Downloading xingzhe-soccer-2021-05-17-13-05-46-626/output/model.tar.gz\n"
     ]
    }
   ],
   "source": [
    "job_name = estimator.latest_training_job.job_name\n",
    "print(\"Training job: %s\" % job_name)\n",
    "\n",
    "s3_url = \"s3://{}/{}\".format(s3_bucket, job_name)\n",
    "\n",
    "model_tar = \"{}/output/model.tar.gz\".format(job_name)\n",
    "\n",
    "tmp_dir = \"/tmp/{}\".format(job_name)\n",
    "os.system(\"mkdir {}\".format(tmp_dir))\n",
    "print(\"Create local folder {}\".format(tmp_dir))\n",
    "\n",
    "model_paths = wait_for_s3_object(s3_bucket, model_tar, tmp_dir) \n"
   ]
  },
  {
   "cell_type": "code",
   "execution_count": 11,
   "metadata": {},
   "outputs": [
    {
     "ename": "NameError",
     "evalue": "name 'model_paths' is not defined",
     "output_type": "error",
     "traceback": [
      "\u001b[0;31m---------------------------------------------------------------------------\u001b[0m",
      "\u001b[0;31mNameError\u001b[0m                                 Traceback (most recent call last)",
      "\u001b[0;32m<ipython-input-11-c4307f5b9880>\u001b[0m in \u001b[0;36m<module>\u001b[0;34m\u001b[0m\n\u001b[1;32m      1\u001b[0m \u001b[0;31m# 解压文件，得到model.nn\u001b[0m\u001b[0;34m\u001b[0m\u001b[0;34m\u001b[0m\u001b[0;34m\u001b[0m\u001b[0m\n\u001b[0;32m----> 2\u001b[0;31m \u001b[0mprint\u001b[0m\u001b[0;34m(\u001b[0m\u001b[0;34mf\"tar xvf {model_paths[0]} -C {tmp_dir}\"\u001b[0m\u001b[0;34m)\u001b[0m\u001b[0;34m\u001b[0m\u001b[0;34m\u001b[0m\u001b[0m\n\u001b[0m\u001b[1;32m      3\u001b[0m \u001b[0mos\u001b[0m\u001b[0;34m.\u001b[0m\u001b[0msystem\u001b[0m\u001b[0;34m(\u001b[0m\u001b[0;34mf\"tar xvf {model_paths[0]} -C {tmp_dir}\"\u001b[0m\u001b[0;34m)\u001b[0m\u001b[0;34m\u001b[0m\u001b[0;34m\u001b[0m\u001b[0m\n\u001b[1;32m      4\u001b[0m \u001b[0;34m\u001b[0m\u001b[0m\n\u001b[1;32m      5\u001b[0m \u001b[0;31m# 下载对应的模型文件\u001b[0m\u001b[0;34m\u001b[0m\u001b[0;34m\u001b[0m\u001b[0;34m\u001b[0m\u001b[0m\n",
      "\u001b[0;31mNameError\u001b[0m: name 'model_paths' is not defined"
     ]
    }
   ],
   "source": [
    "# 解压文件，得到model.nn\n",
    "print(f\"tar xvf {model_paths[0]} -C {tmp_dir}\")\n",
    "os.system(f\"tar xvf {model_paths[0]} -C {tmp_dir}\")\n",
    "\n",
    "# 下载对应的模型文件\n",
    "latest_model_path = os.path.join(tmp_dir, 'results', 'ppo-resume', 'SoccerTwos.nn')\n",
    "print(latest_model_path)"
   ]
  },
  {
   "cell_type": "code",
   "execution_count": 59,
   "metadata": {},
   "outputs": [],
   "source": [
    "os.system(f'cp {latest_model_path} .')"
   ]
  },
  {
   "cell_type": "code",
   "execution_count": 10,
   "metadata": {},
   "outputs": [
    {
     "ename": "NameError",
     "evalue": "name 'latest_model_path' is not defined",
     "output_type": "error",
     "traceback": [
      "\u001b[0;31m---------------------------------------------------------------------------\u001b[0m",
      "\u001b[0;31mNameError\u001b[0m                                 Traceback (most recent call last)",
      "\u001b[0;32m<ipython-input-10-a072d786ac36>\u001b[0m in \u001b[0;36m<module>\u001b[0;34m\u001b[0m\n\u001b[1;32m      1\u001b[0m \u001b[0;32mfrom\u001b[0m \u001b[0mIPython\u001b[0m\u001b[0;34m.\u001b[0m\u001b[0mdisplay\u001b[0m \u001b[0;32mimport\u001b[0m \u001b[0mdisplay\u001b[0m\u001b[0;34m,\u001b[0m \u001b[0mFileLink\u001b[0m\u001b[0;34m\u001b[0m\u001b[0;34m\u001b[0m\u001b[0m\n\u001b[1;32m      2\u001b[0m \u001b[0;31m# 这里需要下载对应的模型文件， TODO\u001b[0m\u001b[0;34m\u001b[0m\u001b[0;34m\u001b[0m\u001b[0;34m\u001b[0m\u001b[0m\n\u001b[0;32m----> 3\u001b[0;31m \u001b[0mlocal_file\u001b[0m \u001b[0;34m=\u001b[0m \u001b[0mFileLink\u001b[0m\u001b[0;34m(\u001b[0m\u001b[0mlatest_model_path\u001b[0m\u001b[0;34m,\u001b[0m \u001b[0mresult_html_prefix\u001b[0m\u001b[0;34m=\u001b[0m\u001b[0;34m\"Click here to download: \"\u001b[0m\u001b[0;34m)\u001b[0m\u001b[0;34m\u001b[0m\u001b[0;34m\u001b[0m\u001b[0m\n\u001b[0m\u001b[1;32m      4\u001b[0m \u001b[0mdisplay\u001b[0m\u001b[0;34m(\u001b[0m\u001b[0mlocal_file\u001b[0m\u001b[0;34m)\u001b[0m\u001b[0;34m\u001b[0m\u001b[0;34m\u001b[0m\u001b[0m\n",
      "\u001b[0;31mNameError\u001b[0m: name 'latest_model_path' is not defined"
     ]
    }
   ],
   "source": [
    "from IPython.display import display, FileLink\n",
    "# 这里需要下载对应的模型文件， TODO\n",
    "local_file = FileLink(latest_model_path, result_html_prefix=\"Click here to download: \")\n",
    "display(local_file)"
   ]
  },
  {
   "cell_type": "code",
   "execution_count": null,
   "metadata": {},
   "outputs": [],
   "source": []
  }
 ],
 "metadata": {
  "anaconda-cloud": {},
  "kernelspec": {
   "display_name": "conda_tensorflow_p36",
   "language": "python",
   "name": "conda_tensorflow_p36"
  },
  "language_info": {
   "codemirror_mode": {
    "name": "ipython",
    "version": 3
   },
   "file_extension": ".py",
   "mimetype": "text/x-python",
   "name": "python",
   "nbconvert_exporter": "python",
   "pygments_lexer": "ipython3",
   "version": "3.6.13"
  },
  "notice": "Copyright 2018 Amazon.com, Inc. or its affiliates. All Rights Reserved. Licensed under the Apache License, Version 2.0 (the \"License\"). You may not use this file except in compliance with the License. A copy of the License is located at http://aws.amazon.com/apache2.0/ or in the \"license\" file accompanying this file. This file is distributed on an \"AS IS\" BASIS, WITHOUT WARRANTIES OR CONDITIONS OF ANY KIND, either express or implied. See the License for the specific language governing permissions and limitations under the License."
 },
 "nbformat": 4,
 "nbformat_minor": 4
}
